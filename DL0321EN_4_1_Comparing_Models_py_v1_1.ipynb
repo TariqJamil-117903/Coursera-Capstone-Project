{
  "cells": [
    {
      "cell_type": "markdown",
      "metadata": {
        "id": "view-in-github",
        "colab_type": "text"
      },
      "source": [
        "<a href=\"https://colab.research.google.com/github/tariqjamil-bwp/Coursera-Capstone-Project/blob/master/DL0321EN_4_1_Comparing_Models_py_v1_1.ipynb\" target=\"_parent\"><img src=\"https://colab.research.google.com/assets/colab-badge.svg\" alt=\"Open In Colab\"/></a>"
      ]
    },
    {
      "cell_type": "markdown",
      "metadata": {
        "id": "zWrY7Oikko2I"
      },
      "source": [
        "<a href=\"https://cognitiveclass.ai\"><img src = \"https://s3-api.us-geo.objectstorage.softlayer.net/cf-courses-data/CognitiveClass/Logos/organization_logo/organization_logo.png\" width = 400> </a>\n",
        "\n",
        "<h1 align=center><font size = 5>Peer Review Final Assignment</font></h1>"
      ]
    },
    {
      "cell_type": "markdown",
      "metadata": {
        "id": "u8uU4gOzko2O"
      },
      "source": [
        "## Introduction\n"
      ]
    },
    {
      "cell_type": "markdown",
      "metadata": {
        "id": "HWh2IWQMko2Q"
      },
      "source": [
        "In this lab, you will build an image classifier using the VGG16 pre-trained model, and you will evaluate it and compare its performance to the model we built in the last module using the ResNet50 pre-trained model. Good luck!"
      ]
    },
    {
      "cell_type": "markdown",
      "metadata": {
        "id": "btKOdETiko2R"
      },
      "source": [
        "## Table of Contents\n",
        "\n",
        "<div class=\"alert alert-block alert-info\" style=\"margin-top: 20px\">\n",
        "\n",
        "<font size = 3>    \n",
        "\n",
        "1. <a href=\"#item41\">Download Data \n",
        "2. <a href=\"#item42\">Part 1</a>\n",
        "3. <a href=\"#item43\">Part 2</a>  \n",
        "4. <a href=\"#item44\">Part 3</a>  \n",
        "\n",
        "</font>\n",
        "    \n",
        "</div>"
      ]
    },
    {
      "cell_type": "markdown",
      "metadata": {
        "id": "Kpx8wKbako2U"
      },
      "source": [
        "   "
      ]
    },
    {
      "cell_type": "markdown",
      "metadata": {
        "id": "wOBYGiDyko2V"
      },
      "source": [
        "<a id=\"item41\"></a>"
      ]
    },
    {
      "cell_type": "markdown",
      "metadata": {
        "id": "cM0GzyD-ko2X"
      },
      "source": [
        "## Download Data"
      ]
    },
    {
      "cell_type": "markdown",
      "metadata": {
        "id": "Zb3GbwIAko2Y"
      },
      "source": [
        "Use the <code>wget</code> command to download the data for this assignment from here: https://s3-api.us-geo.objectstorage.softlayer.net/cf-courses-data/CognitiveClass/DL0321EN/data/concrete_data_week4.zip"
      ]
    },
    {
      "cell_type": "markdown",
      "metadata": {
        "id": "hN7x7GT5ko2a"
      },
      "source": [
        "Use the following cells to download the data."
      ]
    },
    {
      "cell_type": "code",
      "execution_count": 1,
      "metadata": {
        "colab": {
          "base_uri": "https://localhost:8080/"
        },
        "id": "dwQ51u5sko2c",
        "outputId": "b4373a42-0886-4773-9164-b726d2d35cb3"
      },
      "outputs": [
        {
          "output_type": "stream",
          "name": "stdout",
          "text": [
            "--2022-03-20 05:29:21--  https://s3-api.us-geo.objectstorage.softlayer.net/cf-courses-data/CognitiveClass/DL0321EN/data/concrete_data_week4.zip\n",
            "Resolving s3-api.us-geo.objectstorage.softlayer.net (s3-api.us-geo.objectstorage.softlayer.net)... 67.228.254.196\n",
            "Connecting to s3-api.us-geo.objectstorage.softlayer.net (s3-api.us-geo.objectstorage.softlayer.net)|67.228.254.196|:443... connected.\n",
            "HTTP request sent, awaiting response... 200 OK\n",
            "Length: 261483817 (249M) [application/zip]\n",
            "Saving to: ‘concrete_data_week4.zip’\n",
            "\n",
            "concrete_data_week4 100%[===================>] 249.37M  26.6MB/s    in 9.2s    \n",
            "\n",
            "2022-03-20 05:29:31 (27.2 MB/s) - ‘concrete_data_week4.zip’ saved [261483817/261483817]\n",
            "\n"
          ]
        }
      ],
      "source": [
        "## get the data\n",
        "!wget https://s3-api.us-geo.objectstorage.softlayer.net/cf-courses-data/CognitiveClass/DL0321EN/data/concrete_data_week4.zip"
      ]
    },
    {
      "cell_type": "code",
      "execution_count": 2,
      "metadata": {
        "id": "4E2PkhBBko2f"
      },
      "outputs": [],
      "source": [
        "!unzip -q -u concrete_data_week4.zip"
      ]
    },
    {
      "cell_type": "markdown",
      "metadata": {
        "id": "s45txKdCko2h"
      },
      "source": [
        "After you unzip the data, you fill find the data has already been divided into a train, validation, and test sets."
      ]
    },
    {
      "cell_type": "markdown",
      "metadata": {
        "id": "xh7pYltCko2i"
      },
      "source": [
        "  "
      ]
    },
    {
      "cell_type": "code",
      "source": [
        "# removing .ipynb_checkpoints & .DS_Store, which are automatically created inside image folders.\n",
        "# This will prevent errorneous image count in data_generator (i.e. 30001 instead of 30000 !!)\n",
        "\n",
        "!find '.' -name '*.ipynb_checkpoints' -exec rm -r {} +\n",
        "!find '.' -name '.DS_Store' -exec rm -r {} +"
      ],
      "metadata": {
        "id": "SS_IxMIyK89R"
      },
      "execution_count": 3,
      "outputs": []
    },
    {
      "cell_type": "markdown",
      "metadata": {
        "id": "n7xW8oVxko2j"
      },
      "source": [
        "<a id=\"item42\"></a>"
      ]
    },
    {
      "cell_type": "markdown",
      "metadata": {
        "id": "aJCgRteRko2j"
      },
      "source": [
        "## Part 1"
      ]
    },
    {
      "cell_type": "markdown",
      "metadata": {
        "id": "78hTxogJko2k"
      },
      "source": [
        "In this part, you will design a classifier using the VGG16 pre-trained model. Just like the ResNet50 model, you can import the model <code>VGG16</code> from <code>keras.applications</code>."
      ]
    },
    {
      "cell_type": "markdown",
      "metadata": {
        "id": "wH2u7uIDko2l"
      },
      "source": [
        "You will essentially build your classifier as follows:\n",
        "1. Import libraries, modules, and packages you will need. Make sure to import the *preprocess_input* function from <code>keras.applications.vgg16</code>.\n",
        "2. Use a batch size of 100 images for both training and validation.\n",
        "3. Construct an ImageDataGenerator for the training set and another one for the validation set. VGG16 was originally trained on 224 × 224 images, so make sure to address that when defining the ImageDataGenerator instances.\n",
        "4. Create a sequential model using Keras. Add VGG16 model to it and dense layer.\n",
        "5. Compile the mode using the adam optimizer and the categorical_crossentropy loss function.\n",
        "6. Fit the model on the augmented data using the ImageDataGenerators."
      ]
    },
    {
      "cell_type": "markdown",
      "metadata": {
        "id": "MypLgpxnko2n"
      },
      "source": [
        "Use the following cells to create your classifier."
      ]
    },
    {
      "cell_type": "code",
      "execution_count": 4,
      "metadata": {
        "id": "S-b01oSDko2o"
      },
      "outputs": [],
      "source": [
        "# importing liberaries\n",
        "\n",
        "from keras.preprocessing.image import ImageDataGenerator\n",
        "import numpy as np\n",
        "\n",
        "import keras\n",
        "from keras.models import Sequential\n",
        "from keras.layers import Dense\n",
        "\n",
        "from tensorflow.keras.applications import VGG16\n",
        "from tensorflow.keras.applications.vgg16 import preprocess_input"
      ]
    },
    {
      "cell_type": "code",
      "execution_count": 5,
      "metadata": {
        "id": "05bsHv3mko2p"
      },
      "outputs": [],
      "source": [
        "# declaring essential variables/constants\n",
        "\n",
        "batch_size_training = 100\n",
        "batch_size_validation = 100\n",
        "\n",
        "num_classes = 2\n",
        "image_resize = 224"
      ]
    },
    {
      "cell_type": "code",
      "execution_count": 6,
      "metadata": {
        "id": "GiTR2n0Kko2r",
        "scrolled": true
      },
      "outputs": [],
      "source": [
        "# Construct an ImageDataGenerator for the training set and another one for the validation set.\n",
        "\n",
        "data_generator = ImageDataGenerator(preprocessing_function=preprocess_input,)"
      ]
    },
    {
      "cell_type": "code",
      "execution_count": 7,
      "metadata": {
        "colab": {
          "base_uri": "https://localhost:8080/"
        },
        "id": "DI18ZrhuKMDr",
        "outputId": "56c4fa0d-b3bf-4b49-d2bc-058863c5d8f4"
      },
      "outputs": [
        {
          "output_type": "stream",
          "name": "stdout",
          "text": [
            "Found 30000 images belonging to 2 classes.\n",
            "Found 9500 images belonging to 2 classes.\n"
          ]
        }
      ],
      "source": [
        "# VGG16 was originally trained on 224 × 224 images, so make sure to address that  when\n",
        "# defining the ImageDataGenerator instances.\n",
        "\n",
        "train_generator = data_generator.flow_from_directory(\n",
        "    'concrete_data_week4/train',\n",
        "    target_size=(image_resize, image_resize),\n",
        "    batch_size = batch_size_training,\n",
        "    class_mode='categorical')\n",
        "\n",
        "validation_generator = data_generator.flow_from_directory(\n",
        "    'concrete_data_week4/valid',\n",
        "    target_size=(image_resize, image_resize),\n",
        "    batch_size = batch_size_validation,\n",
        "    class_mode='categorical')"
      ]
    },
    {
      "cell_type": "code",
      "execution_count": 8,
      "metadata": {
        "colab": {
          "base_uri": "https://localhost:8080/"
        },
        "id": "-DMSa6ooko2x",
        "outputId": "47646a2e-b424-4ac9-a7cd-aa81cb571b13",
        "scrolled": true
      },
      "outputs": [
        {
          "output_type": "stream",
          "name": "stdout",
          "text": [
            "Downloading data from https://storage.googleapis.com/tensorflow/keras-applications/vgg16/vgg16_weights_tf_dim_ordering_tf_kernels_notop.h5\n",
            "58892288/58889256 [==============================] - 0s 0us/step\n",
            "58900480/58889256 [==============================] - 0s 0us/step\n"
          ]
        }
      ],
      "source": [
        "# defining model\n",
        "\n",
        "model_vgg16 = Sequential()\n",
        "\n",
        "model_vgg16.add(VGG16(\n",
        "    include_top=False,\n",
        "    pooling='avg',\n",
        "    weights='imagenet',\n",
        "    ))"
      ]
    },
    {
      "cell_type": "code",
      "execution_count": 9,
      "metadata": {
        "id": "CxmiCEMkko2y"
      },
      "outputs": [],
      "source": [
        "# adding Dense layer\n",
        "\n",
        "model_vgg16.add(Dense(num_classes, activation='softmax'))"
      ]
    },
    {
      "cell_type": "code",
      "execution_count": 10,
      "metadata": {
        "colab": {
          "base_uri": "https://localhost:8080/"
        },
        "id": "sJEaRY3lko2z",
        "outputId": "ea43eb9f-e9e8-42d0-c6c1-18c6c223b88e"
      },
      "outputs": [
        {
          "output_type": "execute_result",
          "data": {
            "text/plain": [
              "[<keras.engine.functional.Functional at 0x7f6eb1bf5950>,\n",
              " <keras.layers.core.dense.Dense at 0x7f6eb1921b90>]"
            ]
          },
          "metadata": {},
          "execution_count": 10
        }
      ],
      "source": [
        "model_vgg16.layers"
      ]
    },
    {
      "cell_type": "code",
      "execution_count": 11,
      "metadata": {
        "id": "H4sJU0R9ko21"
      },
      "outputs": [],
      "source": [
        "#model_vgg16.layers[0].layers"
      ]
    },
    {
      "cell_type": "code",
      "execution_count": 12,
      "metadata": {
        "id": "cAB8vDqgko22"
      },
      "outputs": [],
      "source": [
        "# prohibting model from modifying weights of vgg16 trained model funtional layers (convolutional + maxpool).\n",
        "\n",
        "model_vgg16.layers[0].trainable = False"
      ]
    },
    {
      "cell_type": "code",
      "execution_count": 13,
      "metadata": {
        "colab": {
          "base_uri": "https://localhost:8080/"
        },
        "id": "LH4RELdWko23",
        "outputId": "95f2a38f-bc67-465e-880b-c847b0e13003"
      },
      "outputs": [
        {
          "output_type": "stream",
          "name": "stdout",
          "text": [
            "Model: \"sequential\"\n",
            "_________________________________________________________________\n",
            " Layer (type)                Output Shape              Param #   \n",
            "=================================================================\n",
            " vgg16 (Functional)          (None, 512)               14714688  \n",
            "                                                                 \n",
            " dense (Dense)               (None, 2)                 1026      \n",
            "                                                                 \n",
            "=================================================================\n",
            "Total params: 14,715,714\n",
            "Trainable params: 1,026\n",
            "Non-trainable params: 14,714,688\n",
            "_________________________________________________________________\n"
          ]
        }
      ],
      "source": [
        "model_vgg16.summary()"
      ]
    },
    {
      "cell_type": "code",
      "execution_count": 14,
      "metadata": {
        "id": "JgBzssuKko24"
      },
      "outputs": [],
      "source": [
        "model_vgg16.compile(optimizer='adam', loss='categorical_crossentropy', metrics=['accuracy'])"
      ]
    },
    {
      "cell_type": "code",
      "execution_count": 15,
      "metadata": {
        "id": "BPv_prHqko25"
      },
      "outputs": [],
      "source": [
        "steps_per_epoch_training = len(train_generator)\n",
        "steps_per_epoch_validation = len(validation_generator)\n",
        "num_epochs = 2"
      ]
    },
    {
      "cell_type": "code",
      "execution_count": 16,
      "metadata": {
        "colab": {
          "base_uri": "https://localhost:8080/"
        },
        "id": "osL-r8ePko26",
        "outputId": "4c680c31-0a64-4c23-880a-083a85022f32"
      },
      "outputs": [
        {
          "output_type": "stream",
          "name": "stdout",
          "text": [
            "Epoch 1/2\n",
            "300/300 [==============================] - 385s 1s/step - loss: 0.1409 - accuracy: 0.9511 - val_loss: 0.0368 - val_accuracy: 0.9918\n",
            "Epoch 2/2\n",
            "300/300 [==============================] - 365s 1s/step - loss: 0.0266 - accuracy: 0.9943 - val_loss: 0.0205 - val_accuracy: 0.9953\n"
          ]
        }
      ],
      "source": [
        "# Model training\n",
        "\n",
        "fit_history = model_vgg16.fit(\n",
        "    train_generator,\n",
        "    steps_per_epoch=steps_per_epoch_training,\n",
        "    epochs=num_epochs,\n",
        "    validation_data=validation_generator,\n",
        "    validation_steps=steps_per_epoch_validation,\n",
        "    verbose=1,\n",
        ")"
      ]
    },
    {
      "cell_type": "code",
      "execution_count": 17,
      "metadata": {
        "id": "jU460Coako28"
      },
      "outputs": [],
      "source": [
        "# saving model (used during solving the assignment, and future use..)\n",
        "\n",
        "model_vgg16.save('classifier_vgg16_model.h5')"
      ]
    },
    {
      "cell_type": "code",
      "execution_count": 18,
      "metadata": {
        "id": "49AyLZXLKMD0",
        "colab": {
          "base_uri": "https://localhost:8080/"
        },
        "outputId": "efd3af5b-7848-4aa9-f674-f1a2095ffec2"
      },
      "outputs": [
        {
          "output_type": "stream",
          "name": "stdout",
          "text": [
            "<keras.callbacks.History object at 0x7f6eb18cbc10>\n"
          ]
        },
        {
          "output_type": "execute_result",
          "data": {
            "text/plain": [
              "{'accuracy': [0.9510666728019714, 0.9943333268165588],\n",
              " 'loss': [0.14090219140052795, 0.026630496606230736],\n",
              " 'val_accuracy': [0.9917894601821899, 0.9952631592750549],\n",
              " 'val_loss': [0.036823831498622894, 0.020528893917798996]}"
            ]
          },
          "metadata": {},
          "execution_count": 18
        }
      ],
      "source": [
        "print(fit_history)\n",
        "fit_history.history"
      ]
    },
    {
      "cell_type": "markdown",
      "metadata": {
        "id": "xzZzQPzrko2_"
      },
      "source": [
        "## Part 2"
      ]
    },
    {
      "cell_type": "markdown",
      "metadata": {
        "id": "vX2sfWJ9ko3A"
      },
      "source": [
        "In this part, you will evaluate your deep learning models on a test data. For this part, you will need to do the following:\n",
        "\n",
        "1. Load your saved model that was built using the ResNet50 model. \n",
        "2. Construct an ImageDataGenerator for the test set. For this ImageDataGenerator instance, you only need to pass the directory of the test images, target size, and the **shuffle** parameter and set it to False.\n",
        "3. Use the **evaluate_generator** method to evaluate your models on the test data, by passing the above ImageDataGenerator as an argument. You can learn more about **evaluate_generator** [here](https://keras.io/models/sequential/).\n",
        "4. Print the performance of the classifier using the VGG16 pre-trained model.\n",
        "5. Print the performance of the classifier using the ResNet pre-trained model.\n"
      ]
    },
    {
      "cell_type": "markdown",
      "metadata": {
        "id": "jrXdczgNko3B"
      },
      "source": [
        "Use the following cells to evaluate your models."
      ]
    },
    {
      "cell_type": "code",
      "execution_count": 19,
      "metadata": {
        "id": "n-Is3A56ko3C"
      },
      "outputs": [],
      "source": [
        "# Loading the saved model that was built using the ResNet50 model.\n",
        "\n",
        "model_resnet = keras.models.load_model('classifier_resnet_model.h5')\n",
        "#model_vgg16 = keras.models.load_model('classifier_vgg16_model.h5')   # for experimentation to avoid training again !!"
      ]
    },
    {
      "cell_type": "code",
      "execution_count": 20,
      "metadata": {
        "id": "s2RdymGvuoMt",
        "colab": {
          "base_uri": "https://localhost:8080/"
        },
        "outputId": "30dffe6e-3dd9-40da-d03a-8aaf7818eba0"
      },
      "outputs": [
        {
          "output_type": "stream",
          "name": "stdout",
          "text": [
            "Found 500 images belonging to 2 classes.\n"
          ]
        }
      ],
      "source": [
        "# Construction of an ImageDataGenerator for the test set.\n",
        "\n",
        "test_generator = data_generator.flow_from_directory(\n",
        "    'concrete_data_week4/test',\n",
        "    target_size=(image_resize, image_resize),\n",
        "    shuffle = False,\n",
        "    seed = 42\n",
        ")"
      ]
    },
    {
      "cell_type": "code",
      "execution_count": 21,
      "metadata": {
        "id": "RkdxTncmKMD5"
      },
      "outputs": [],
      "source": [
        "STEP_SIZE_TEST = test_generator.n//test_generator.batch_size"
      ]
    },
    {
      "cell_type": "code",
      "execution_count": 22,
      "metadata": {
        "id": "aRR77Iqnko3C",
        "colab": {
          "base_uri": "https://localhost:8080/"
        },
        "outputId": "8d832ede-482e-4c84-c975-f0ff3153ce4d"
      },
      "outputs": [
        {
          "output_type": "stream",
          "name": "stdout",
          "text": [
            "15/15 [==============================] - 8s 289ms/step - loss: 0.0197 - accuracy: 0.9979\n"
          ]
        }
      ],
      "source": [
        "# evaluateing the models (vgg16) on the test data\n",
        "\n",
        "metrics_vgg16 = model_vgg16.evaluate(test_generator, steps=STEP_SIZE_TEST, verbose=1)\n",
        "\n",
        "# Model.evaluate_generator is replaced by Model.evaluate .. due deprication warning"
      ]
    },
    {
      "cell_type": "code",
      "execution_count": 23,
      "metadata": {
        "id": "cNkURYgmko3D",
        "colab": {
          "base_uri": "https://localhost:8080/"
        },
        "outputId": "b6b2d013-01b7-4e83-9c77-a379130731fa"
      },
      "outputs": [
        {
          "output_type": "stream",
          "name": "stdout",
          "text": [
            "15/15 [==============================] - 6s 225ms/step - loss: 0.0032 - accuracy: 1.0000\n"
          ]
        }
      ],
      "source": [
        "# evaluateing the models (resnet) on the test data\n",
        "\n",
        "metrics_resnet = model_resnet.evaluate(test_generator, steps=STEP_SIZE_TEST, verbose=1)\n",
        "\n",
        "# Model.evaluate_generator is replaced by Model.evaluate .. due deprication warning"
      ]
    },
    {
      "cell_type": "code",
      "execution_count": 24,
      "metadata": {
        "id": "fVmb-ztMko3D",
        "colab": {
          "base_uri": "https://localhost:8080/"
        },
        "outputId": "784280d5-e076-4109-ee31-77e1c3a88fac"
      },
      "outputs": [
        {
          "output_type": "stream",
          "name": "stdout",
          "text": [
            "VGG16 Model Performance on Test Data --> Loss=0.0197, Accuracy=0.9979\n"
          ]
        }
      ],
      "source": [
        "# performance of the classifier which used VGG16 pre-trained model.\n",
        "\n",
        "print('VGG16 Model Performance on Test Data --> Loss={0:.4f}, Accuracy={1:0.4f}'.format(metrics_vgg16[0], metrics_vgg16[1]))"
      ]
    },
    {
      "cell_type": "code",
      "execution_count": 25,
      "metadata": {
        "id": "icj9wcagKMD7",
        "colab": {
          "base_uri": "https://localhost:8080/"
        },
        "outputId": "d8071420-1a69-4881-fe53-9fde7bdc3400"
      },
      "outputs": [
        {
          "output_type": "stream",
          "name": "stdout",
          "text": [
            "RESNET Model Performance on Test Data --> Loss=0.0032, Accuracy=1.0000\n"
          ]
        }
      ],
      "source": [
        "# performance of the classifier which used ResNet pre-trained model.\n",
        "\n",
        "print('RESNET Model Performance on Test Data --> Loss={0:.4f}, Accuracy={1:.4f}'.format(metrics_resnet[0], metrics_resnet[1]))"
      ]
    },
    {
      "cell_type": "markdown",
      "metadata": {
        "id": "tigBqhlxko3E"
      },
      "source": [
        "   "
      ]
    },
    {
      "cell_type": "markdown",
      "metadata": {
        "id": "Gq_4GBaTko3E"
      },
      "source": [
        "<a id=\"item44\"></a>"
      ]
    },
    {
      "cell_type": "markdown",
      "metadata": {
        "id": "GIo3rYf2ko3F"
      },
      "source": [
        "## Part 3"
      ]
    },
    {
      "cell_type": "markdown",
      "metadata": {
        "id": "1i9MGRgako3F"
      },
      "source": [
        "In this model, you will predict whether the images in the test data are images of cracked concrete or not. You will do the following:\n",
        "\n",
        "1. Use the **predict_generator** method to predict the class of the images in the test data, by passing the test data ImageDataGenerator instance defined in the previous part as an argument. You can learn more about the **predict_generator** method [here](https://keras.io/models/sequential/).\n",
        "2. Report the class predictions of the first five images in the test set. You should print something list this:\n",
        "\n",
        "<center>\n",
        "    <ul style=\"list-style-type:none\">\n",
        "        <li>Positive</li>  \n",
        "        <li>Negative</li> \n",
        "        <li>Positive</li>\n",
        "        <li>Positive</li>\n",
        "        <li>Negative</li>\n",
        "    </ul>\n",
        "</center>"
      ]
    },
    {
      "cell_type": "markdown",
      "metadata": {
        "id": "_ErbIdWOko3G"
      },
      "source": [
        "Use the following cells to make your predictions."
      ]
    },
    {
      "cell_type": "code",
      "execution_count": 26,
      "metadata": {
        "id": "nRArEVGZKMD-"
      },
      "outputs": [],
      "source": [
        "test_generator.reset()"
      ]
    },
    {
      "cell_type": "code",
      "execution_count": 27,
      "metadata": {
        "id": "zOtGmpE9ko3G",
        "colab": {
          "base_uri": "https://localhost:8080/"
        },
        "outputId": "67046290-538a-4f30-e5d9-8e450e3f531b"
      },
      "outputs": [
        {
          "output_type": "stream",
          "name": "stdout",
          "text": [
            "15/15 [==============================] - 4s 281ms/step\n"
          ]
        }
      ],
      "source": [
        "# The prediction is based on the vgg16 model.\n",
        "\n",
        "prediction_vgg16 = model_vgg16.predict(test_generator, steps=STEP_SIZE_TEST, verbose=1)\n",
        "\n",
        "# model.predict_generator is replaced by model.predict .. due deprication warning"
      ]
    },
    {
      "cell_type": "code",
      "execution_count": 28,
      "metadata": {
        "id": "vIbD4hYwKMD_"
      },
      "outputs": [],
      "source": [
        "test_generator.reset()"
      ]
    },
    {
      "cell_type": "code",
      "execution_count": 29,
      "metadata": {
        "id": "E7nFdGetKMEA",
        "colab": {
          "base_uri": "https://localhost:8080/"
        },
        "outputId": "dd875847-b48c-46d5-ce07-5fc8136ca729"
      },
      "outputs": [
        {
          "output_type": "stream",
          "name": "stdout",
          "text": [
            "15/15 [==============================] - 4s 216ms/step\n"
          ]
        }
      ],
      "source": [
        "# The prediction is based on the resnet model.\n",
        "\n",
        "prediction_resnet = model_resnet.predict(test_generator, steps=STEP_SIZE_TEST, verbose=1)\n",
        "\n",
        "# model.predict_generator is replaced by model.predict .. due deprication warning"
      ]
    },
    {
      "cell_type": "code",
      "execution_count": 30,
      "metadata": {
        "id": "Y_Tp8U9Fko3H"
      },
      "outputs": [],
      "source": [
        "# This function converts all predicted data into its equivalent class labels\n",
        "\n",
        "def classify(predicted_data):\n",
        "    predicted_class_indices=np.argmax(predicted_data,axis=1)\n",
        "    labels = (train_generator.class_indices)\n",
        "    labels = dict((v,k) for k,v in labels.items())\n",
        "    predictions = [labels[k] for k in predicted_class_indices]\n",
        "    return predictions"
      ]
    },
    {
      "cell_type": "code",
      "execution_count": 31,
      "metadata": {
        "id": "yqjRVK-vKMEB",
        "colab": {
          "base_uri": "https://localhost:8080/"
        },
        "outputId": "49cc46ee-793e-4ed3-e55d-f6bee055680b"
      },
      "outputs": [
        {
          "output_type": "stream",
          "name": "stdout",
          "text": [
            "Prediction results on 1st 5 images of test set using VGG16 Model\n",
            "----------------------------------------------------------------\n",
            "negative\n",
            "negative\n",
            "negative\n",
            "negative\n",
            "negative\n"
          ]
        }
      ],
      "source": [
        "# Printing prediction results of first 5 images of test set using vgg16 model \n",
        "\n",
        "print(\"Prediction results on 1st 5 images of test set using VGG16 Model\")\n",
        "print(\"----------------------------------------------------------------\")\n",
        "      \n",
        "for i in classify(prediction_vgg16[:5]):\n",
        "    print(i)"
      ]
    },
    {
      "cell_type": "code",
      "execution_count": 32,
      "metadata": {
        "id": "FV0Oph9IKMEC",
        "colab": {
          "base_uri": "https://localhost:8080/"
        },
        "outputId": "3c393ca8-d7ac-4293-ea9e-8e111f3a8b43"
      },
      "outputs": [
        {
          "output_type": "stream",
          "name": "stdout",
          "text": [
            "Prediction results on 1st 5 images of test set using RESNET Model\n",
            "-----------------------------------------------------------------\n",
            "negative\n",
            "negative\n",
            "negative\n",
            "negative\n",
            "negative\n"
          ]
        }
      ],
      "source": [
        "# Printing prediction results of first 5 images of test set using resnet model \n",
        "print(\"Prediction results on 1st 5 images of test set using RESNET Model\")\n",
        "print(\"-----------------------------------------------------------------\")\n",
        "\n",
        "for i in classify(prediction_resnet[:5]):\n",
        "    print(i)"
      ]
    },
    {
      "cell_type": "code",
      "execution_count": 33,
      "metadata": {
        "id": "Si19ddjDKMED",
        "colab": {
          "base_uri": "https://localhost:8080/"
        },
        "outputId": "657e15cb-8ba1-4b4a-ea65-958ed8d020e9"
      },
      "outputs": [
        {
          "output_type": "execute_result",
          "data": {
            "text/plain": [
              "array([[1., 0.],\n",
              "       [1., 0.],\n",
              "       [1., 0.],\n",
              "       [1., 0.],\n",
              "       [1., 0.]], dtype=float32)"
            ]
          },
          "metadata": {},
          "execution_count": 33
        }
      ],
      "source": [
        "test_generator.reset()\n",
        "test_generator[0][1][:5]   ## verification of negative images"
      ]
    },
    {
      "cell_type": "markdown",
      "metadata": {
        "id": "kw4ii67Dko3I"
      },
      "source": [
        "#### The result is all from same class as the test_data was generated from directory with 'shuffle=False' parameter.\n",
        "#### This would have resulted the loading of test data in sequential order from folder of the first class."
      ]
    },
    {
      "cell_type": "markdown",
      "metadata": {
        "id": "upm4rQzSko3J"
      },
      "source": [
        "  "
      ]
    },
    {
      "cell_type": "markdown",
      "metadata": {
        "id": "XmH_DsvJko3J"
      },
      "source": [
        "### Thank you for completing this lab!\n",
        "\n",
        "This notebook was created by Alex Aklson."
      ]
    },
    {
      "cell_type": "markdown",
      "metadata": {
        "id": "-bGSn1AHko3K"
      },
      "source": [
        "This notebook is part of a course on **Coursera** called *AI Capstone Project with Deep Learning*. If you accessed this notebook outside the course, you can take this course online by clicking [here](https://cocl.us/DL0321EN_Coursera_Week4_LAB1)."
      ]
    },
    {
      "cell_type": "markdown",
      "metadata": {
        "id": "fpXaOzbIko3K"
      },
      "source": [
        "<hr>\n",
        "\n",
        "Copyright &copy; 2020 [IBM Developer Skills Network](https://cognitiveclass.ai/?utm_source=bducopyrightlink&utm_medium=dswb&utm_campaign=bdu). This notebook and its source code are released under the terms of the [MIT License](https://bigdatauniversity.com/mit-license/)."
      ]
    }
  ],
  "metadata": {
    "accelerator": "GPU",
    "colab": {
      "name": "DL0321EN_4_1_Comparing_Models_py_v1_1.ipynb",
      "provenance": [],
      "collapsed_sections": [],
      "include_colab_link": true
    },
    "kernelspec": {
      "display_name": "Python 3",
      "name": "python3"
    },
    "language_info": {
      "name": "python"
    }
  },
  "nbformat": 4,
  "nbformat_minor": 0
}